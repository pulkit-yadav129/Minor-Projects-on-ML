{
  "nbformat": 4,
  "nbformat_minor": 0,
  "metadata": {
    "colab": {
      "name": "Linear Regression-Assignment 2(Air Pollution).ipynb",
      "provenance": []
    },
    "kernelspec": {
      "name": "python3",
      "display_name": "Python 3"
    },
    "language_info": {
      "name": "python"
    }
  },
  "cells": [
    {
      "cell_type": "code",
      "metadata": {
        "colab": {
          "base_uri": "https://localhost:8080/",
          "height": 295
        },
        "id": "cZxcGuEfMSmp",
        "outputId": "16c24de9-d135-4170-eaff-396631e3e500"
      },
      "source": [
        "import pandas as pd\n",
        "import numpy as np\n",
        "import matplotlib.pyplot as plt\n",
        "\n",
        "df=pd.read_csv('/content/Train.csv')\n",
        "\n",
        "one_arr=np.ones((df.shape[0],))\n",
        "\n",
        "x = np.c_[one_arr, df['feature_1'], df['feature_2'], df['feature_3'],  df['feature_4'], df['feature_5']]\n",
        "\n",
        "y=df['target'].values\n",
        "y=y.reshape((-1,))\n",
        "\n",
        "def hypothesis(x,theta):\n",
        "  return np.dot(x,theta)\n",
        "\n",
        "def error(x,theta,y):\n",
        "  error=0.0\n",
        "  m=x.shape[0]\n",
        "\n",
        "  for i in range(m):\n",
        "    hx=hypothesis(x[i],theta)\n",
        "    error+=(hx-y[i])**2\n",
        "\n",
        "  return error\n",
        "\n",
        "def gradient(x,theta,y):\n",
        "  m=x.shape[0]\n",
        "  grad=np.zeros((theta.shape))\n",
        "\n",
        "  for i in range(m):\n",
        "    hx=hypothesis(x[i],theta)\n",
        "    grad=grad+(hx-y[i])*x[i]\n",
        "\n",
        "  return grad/m\n",
        "\n",
        "def gradientDescent(x,y,learning_rate=0.01):\n",
        "  theta=np.zeros((x.shape[1],))\n",
        "  error_list=[]\n",
        "  theta_list=[]\n",
        "  for i in range(1000):\n",
        "    err=error(x,theta,y)\n",
        "    grad=gradient(x,theta,y)\n",
        "\n",
        "    theta_list.append(theta)\n",
        "    error_list.append(err)\n",
        "\n",
        "    theta=theta-(learning_rate)*grad\n",
        "\n",
        "  return theta,error_list,theta_list\n",
        "\n",
        "final_theta,error_list,theta_list=gradientDescent(x,y)\n",
        "plt.plot(error_list)\n",
        "print(final_theta)\n",
        "\n",
        "\n"
      ],
      "execution_count": null,
      "outputs": [
        {
          "output_type": "stream",
          "name": "stdout",
          "text": [
            "[ 4.98825521 29.67987527 92.65908015  8.27756078 44.76510038  2.51769725]\n"
          ]
        },
        {
          "output_type": "display_data",
          "data": {
            "image/png": "[encoded data removed]",
            "text/plain": [
              "<Figure size 432x288 with 1 Axes>"
            ]
          },
          "metadata": {
            "needs_background": "light"
          }
        }
      ]
    },
    {
      "cell_type": "code",
      "metadata": {
        "id": "i46PfjXgVTNS"
      },
      "source": [
        ""
      ],
      "execution_count": null,
      "outputs": []
    }
  ]
}